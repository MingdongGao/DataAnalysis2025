{
 "cells": [
  {
   "cell_type": "markdown",
   "metadata": {},
   "source": [
    "\n"
   ]
  },
  {
   "cell_type": "markdown",
   "metadata": {},
   "source": [
    "___\n",
    "\n",
    "# Analysis of how music therapy contributes to human mental health\n",
    "\n",
    "\n",
    "### Overview:\n",
    "\n",
    "* **Name**:  Mingdong Gao\n",
    "* **Student number**:  0900369856\n",
    "\n",
    "<br>"
   ]
  },
  {
   "cell_type": "markdown",
   "metadata": {},
   "source": [
    "### Purpose:\n",
    "\n",
    "* The purpose of this study is to determine which factors of music therapy contribute most to improvements in people's mental health.\n",
    "* Key DVs include:\n",
    "  * the ranks of Anxiety\n",
    "  * Depression\n",
    "  * Insomnia\n",
    "  * OCD\n",
    "* All DVs above are being rated on a scale of 0 to 10.\n",
    "* Key IVs include:\n",
    "  * music genre\n",
    "  * age\n",
    "  * gender\n",
    "  * frequency\n",
    "  * frequency of listening to different genres\n",
    "  * place\n",
    "  * BPM of the music\n",
    "  * duration\n",
    "  * main streaming platform\n",
    "  * Instrumentalist (Does the participant play an instrument)\n",
    "* There are 4 DVs and 29 IVs, the number of cases is over 700       \n",
    "\n",
    "\n",
    "<br>"
   ]
  },
  {
   "cell_type": "markdown",
   "metadata": {},
   "source": [
    "### Dataset source:\n",
    "\n",
    "* The data is being collected through an open Google form; the region and age of the participants are not being restricted.\n",
    "* The hard questions (e.g., the BPM of the music) is not compulsory.\n",
    "* The data is being organized by Catherine Rasgaitis, from the University of Washington\n",
    "* The dataset can be downloaded [here](https://www.kaggle.com/datasets/catherinerasgaitis/mxmh-survey-results/data?select=mxmh_survey_results.csv)"
   ]
  },
  {
   "cell_type": "markdown",
   "metadata": {},
   "source": [
    "\n"
   ]
  }
 ],
 "metadata": {
  "kernelspec": {
   "display_name": "Python 3 (ipykernel)",
   "language": "python",
   "name": "python3"
  },
  "language_info": {
   "codemirror_mode": {
    "name": "ipython",
    "version": 3
   },
   "file_extension": ".py",
   "mimetype": "text/x-python",
   "name": "python",
   "nbconvert_exporter": "python",
   "pygments_lexer": "ipython3",
   "version": "3.13.5"
  }
 },
 "nbformat": 4,
 "nbformat_minor": 4
}
